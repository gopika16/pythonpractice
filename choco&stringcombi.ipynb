{
  "nbformat": 4,
  "nbformat_minor": 0,
  "metadata": {
    "colab": {
      "provenance": [],
      "authorship_tag": "ABX9TyPLYYLnCNnKFyHb+uyuB/o4"
    },
    "kernelspec": {
      "name": "python3",
      "display_name": "Python 3"
    },
    "language_info": {
      "name": "python"
    }
  },
  "cells": [
    {
      "cell_type": "code",
      "execution_count": null,
      "metadata": {
        "colab": {
          "base_uri": "https://localhost:8080/"
        },
        "id": "m1WJ6wI4fKbT",
        "outputId": "583368b6-de08-493a-e490-54bfde479ee6"
      },
      "outputs": [
        {
          "output_type": "stream",
          "name": "stdout",
          "text": [
            "19\n"
          ]
        }
      ],
      "source": [
        "amount=100\n",
        "choco=0\n",
        "wrps=0\n",
        "choco=amount//10\n",
        "wrps=choco \n",
        "check=2\n",
        "while wrps>=check:\n",
        "\n",
        "\n",
        "  # subtracted wraps used to get choclate 5\n",
        "\tsub_wraps=(wrps//check) \n",
        "  \n",
        "\twrps = (wrps-(sub_wraps*check))+sub_wraps\n",
        "\n",
        "  # 10+1+5+2\n",
        "\tchoco=choco+sub_wraps\n",
        "print(choco)"
      ]
    },
    {
      "cell_type": "code",
      "source": [
        "# user provides a string abc\n",
        "# print possible combinations\n",
        "# user_input=\"abc\"\n",
        "# siz=len(user_input)\n",
        "# total_elements=(siz-1) * siz\n",
        "# save_in_list=[]\n",
        "\n",
        "\n",
        "  # save_in_list.append(ele)\n",
        "# print(save_in_list)\n"
      ],
      "metadata": {
        "colab": {
          "base_uri": "https://localhost:8080/"
        },
        "id": "N3I1nHCgkHJ8",
        "outputId": "0f959acb-bd66-40a5-93b0-feda137e92fd"
      },
      "execution_count": null,
      "outputs": [
        {
          "output_type": "stream",
          "name": "stdout",
          "text": [
            "['abcd', 'bacd', 'cabd', 'dabc']\n"
          ]
        }
      ]
    },
    {
      "cell_type": "code",
      "source": [
        "# i='abc'\n",
        "# def fun(i,j,k):\n",
        "#   ele=''\n",
        "#   if j<k+1:\n",
        "#     ele=ele+fun(i,j+1,k)\n",
        "#     return i[j]\n",
        "#   print(ele)\n",
        "\n",
        "# fun(i,0,3)\n"
      ],
      "metadata": {
        "id": "pl0iYFHu1ues"
      },
      "execution_count": null,
      "outputs": []
    },
    {
      "cell_type": "code",
      "source": [
        "def fun(s,b):\n",
        "  if len(s)==0:\n",
        "    print(\"ans:\",b)\n",
        "    # abc\n",
        "  for i in range(len(s)):\n",
        "    # 2bc\n",
        "    x=b+s[i]\n",
        "    # x=ab+c\n",
        "    # print(\"b\",b,\"s[i]\",s[i])\n",
        "    # x=a+b\n",
        "    print(\"\")\n",
        "    print(\"i = \",i)\n",
        "\n",
        "    print(x)\n",
        "    y=s[0:i]+s[i+1:]\n",
        "    # c\n",
        "    # print(s[0:i])\n",
        "    # print(s[i+1:])\n",
        "    print(y)\n",
        "    fun(y,x) \n",
        "    # x= a,y=bc\n",
        "    # x=ab y=c\n",
        "    # x=abc,y=''\n",
        "s=\"abc\"\n",
        "fun(s,'')\n"
      ],
      "metadata": {
        "colab": {
          "base_uri": "https://localhost:8080/"
        },
        "id": "zlp5XPdnpOzA",
        "outputId": "59df506e-3870-4368-c8a9-db1f1a9353f0"
      },
      "execution_count": null,
      "outputs": [
        {
          "output_type": "stream",
          "name": "stdout",
          "text": [
            "\n",
            "i =  0\n",
            "a\n",
            "bc\n",
            "\n",
            "i =  0\n",
            "ab\n",
            "c\n",
            "\n",
            "i =  0\n",
            "abc\n",
            "\n",
            "ans: abc\n",
            "\n",
            "i =  1\n",
            "ac\n",
            "b\n",
            "\n",
            "i =  0\n",
            "acb\n",
            "\n",
            "ans: acb\n",
            "\n",
            "i =  1\n",
            "b\n",
            "ac\n",
            "\n",
            "i =  0\n",
            "ba\n",
            "c\n",
            "\n",
            "i =  0\n",
            "bac\n",
            "\n",
            "ans: bac\n",
            "\n",
            "i =  1\n",
            "bc\n",
            "a\n",
            "\n",
            "i =  0\n",
            "bca\n",
            "\n",
            "ans: bca\n",
            "\n",
            "i =  2\n",
            "c\n",
            "ab\n",
            "\n",
            "i =  0\n",
            "ca\n",
            "b\n",
            "\n",
            "i =  0\n",
            "cab\n",
            "\n",
            "ans: cab\n",
            "\n",
            "i =  1\n",
            "cb\n",
            "a\n",
            "\n",
            "i =  0\n",
            "cba\n",
            "\n",
            "ans: cba\n"
          ]
        }
      ]
    },
    {
      "cell_type": "code",
      "source": [
        "def getstrings(vals,ans):\n",
        "\n",
        "  # initially when it will enter the function vals=abc,ans=''\n",
        "\n",
        "  if len(vals)==0:  \n",
        "    # will print when the size of vals is zero and ans will contain the string\n",
        "    print(ans)\n",
        "\n",
        "\n",
        "  # then loop will run for the length of vals  i.e. 3 times\n",
        "  for i in range(len(vals)):\n",
        "    # when i=0    # ans='' , vals[i]=a >> ''+a>>a\n",
        "    p1=ans+vals[i]\n",
        "    #i=0  >>a\n",
        "    p2=vals[0:i]+vals[i+1:]\n",
        "    #i=0 vals[0:i] contains values from 0 to i ie 0 : 0 no value thus vals[0:i]>''\n",
        "    #vals[i+1:] gives the value from i+i to end ie 1:3 ie bc \n",
        "    fun(p2,p1)\n",
        "    # now in this function we are sending fun(bc , a)\n",
        "\n",
        "    \n",
        "user_val=\"abc\"\n",
        "# initially we'll send the string and a empty string\n",
        "getstrings(user_val,'')\n"
      ],
      "metadata": {
        "colab": {
          "base_uri": "https://localhost:8080/"
        },
        "id": "iAbBTSW4Ba8k",
        "outputId": "01e26a57-3599-473a-e3a8-c1e6a8eeadea"
      },
      "execution_count": null,
      "outputs": [
        {
          "output_type": "stream",
          "name": "stdout",
          "text": [
            "vals[0:i] \n",
            "vals[0:i] bc\n",
            "abc\n",
            "acb\n",
            "vals[0:i] a\n",
            "vals[0:i] c\n",
            "bac\n",
            "bca\n",
            "vals[0:i] ab\n",
            "vals[0:i] \n",
            "cab\n",
            "cba\n"
          ]
        }
      ]
    },
    {
      "cell_type": "code",
      "source": [
        "def getstrings(vals,ans):\n",
        "\n",
        "  # initially when it will enter the function vals=abc,ans=''\n",
        "\n",
        "  if len(vals)==0:  \n",
        "    # will print when the size of vals is zero and ans will contain the string\n",
        "    lis.append(ans)\n",
        "\n",
        "\n",
        "  # then loop will run for the length of vals  i.e. 3 times\n",
        "  for i in range(len(vals)):\n",
        "    # when i=0    # ans='' , vals[i]=a >> ''+a>>a\n",
        "    p1=ans+vals[i]\n",
        "    #i=0  >>a\n",
        "    p2=vals[0:i]+vals[i+1:]\n",
        "    #i=0 vals[0:i] contains values from 0 to i ie 0 : 0 no value thus vals[0:i]>''\n",
        "    #vals[i+1:] gives the value from i+i to end ie 1:3 ie bc \n",
        "    getstrings(p2,p1)\n",
        "    # now in this function we are sending fun(bc , a)\n",
        "\n",
        "    \n",
        "user_val=input(\"enter string : \")\n",
        "lis=[]\n",
        "# initially we'll send the string and a empty string\n",
        "getstrings(user_val,'')\n",
        "print(lis)"
      ],
      "metadata": {
        "colab": {
          "base_uri": "https://localhost:8080/"
        },
        "id": "I_ab648GoWlh",
        "outputId": "d1111e88-d8ba-434b-9675-734eb8a10db1"
      },
      "execution_count": null,
      "outputs": [
        {
          "output_type": "stream",
          "name": "stdout",
          "text": [
            "enter string : abc\n",
            "['abc', 'acb', 'bac', 'bca', 'cab', 'cba']\n"
          ]
        }
      ]
    }
  ]
}