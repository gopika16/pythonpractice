{
  "nbformat": 4,
  "nbformat_minor": 0,
  "metadata": {
    "colab": {
      "provenance": [],
      "authorship_tag": "ABX9TyNxncPf5gbLaHJAg8h0l+X/"
    },
    "kernelspec": {
      "name": "python3",
      "display_name": "Python 3"
    },
    "language_info": {
      "name": "python"
    }
  },
  "cells": [
    {
      "cell_type": "code",
      "execution_count": null,
      "metadata": {
        "id": "O7gE6tjaGfu6"
      },
      "outputs": [],
      "source": [
        "#Write a function that reverses a string. The input string is given as an array of characters s.\n",
        "\n",
        "# You must do this by modifying the input array in-place with O(1) extra memory.\n",
        "\n",
        "class Solution:\n",
        "    def reverseString(self, s: List[str]) -> None:\n",
        "        i=0\n",
        "        j=len(s)-1\n",
        "        while i < j:\n",
        "            s[i] , s[j] = s[j], s[i]\n",
        "            i+=1\n",
        "            j-=1\n",
        "        print(s)"
      ]
    },
    {
      "cell_type": "code",
      "source": [
        "# Given an integer array nums sorted in non-decreasing order, return an array of \n",
        "# the squares of each number sorted in non-decreasing order.\n",
        "\n",
        "class Solution:\n",
        "    def sortedSquares(self, nums: List[int]) -> List[int]:\n",
        "        return sorted(x*x for x in nums)\n",
        "# alternative solution\n",
        "\n",
        "class Solution:\n",
        "    def sortedSquares(self, nums: List[int]) -> List[int]:\n",
        "        n = len(nums)\n",
        "        result = [0] * n\n",
        "        left = 0\n",
        "        right = n - 1\n",
        "        for i in range(n - 1, -1, -1):\n",
        "            if abs(nums[left]) < abs(nums[right]):\n",
        "                square = nums[right]\n",
        "                right -= 1\n",
        "            else:\n",
        "                square = nums[left]\n",
        "                left += 1\n",
        "            result[i] = square * square\n",
        "        return result\n",
        "                "
      ],
      "metadata": {
        "id": "SOv6qISFG_l6"
      },
      "execution_count": null,
      "outputs": []
    },
    {
      "cell_type": "code",
      "source": [
        "\n",
        "# Maximum Average Subarray\n",
        "\n",
        "class Solution:\n",
        "    def findMaxAverage(self, nums: List[int], k: int) -> float:\n",
        "        n=len(nums)\n",
        "        curr=0\n",
        "        for i in range(k):\n",
        "            curr += nums[i]\n",
        "        ans=curr\n",
        "        for i in range(k,n):\n",
        "            curr += nums[i]-nums[i-k]\n",
        "            ans = max(ans,curr)\n",
        "        return ans/k\n",
        "\n"
      ],
      "metadata": {
        "id": "7QL3fgwnN42O"
      },
      "execution_count": null,
      "outputs": []
    },
    {
      "cell_type": "code",
      "source": [
        "# Max Consecutive Ones III\n",
        "\n",
        "# Input: nums = [1,1,1,0,0,0,1,1,1,1,0], k = 2\n",
        "# Output: 6\n",
        "# Explanation: [1,1,1,0,0,1,1,1,1,1,1]\n",
        "# Bolded numbers were flipped from 0 to 1. The longest subarray is underlined.\n",
        "\n",
        "\n",
        "class Solution:\n",
        "    def longestOnes(self, nums: List[int], k: int) -> int:\n",
        "        count=l=ans= 0\n",
        "        l= 0\n",
        "        ans=0\n",
        "        for r in range(len(nums)):\n",
        "            if nums[r] == 0:\n",
        "                count += 1\n",
        "            while count > k:\n",
        "                if nums[l] == 0:\n",
        "                    count -= 1\n",
        "                l += 1\n",
        "            ans = max(ans,r-l+1)\n",
        "                \n",
        "        return ans"
      ],
      "metadata": {
        "id": "MB8PDUXz8UUw"
      },
      "execution_count": null,
      "outputs": []
    }
  ]
}